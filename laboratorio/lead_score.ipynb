{
 "cells": [
  {
   "cell_type": "code",
   "execution_count": 1,
   "metadata": {
    "collapsed": true,
    "pycharm": {
     "name": "#%%\n"
    }
   },
   "outputs": [],
   "source": [
    "import pandas as pd"
   ]
  },
  {
   "cell_type": "code",
   "execution_count": 2,
   "outputs": [],
   "source": [
    "from marketing.extract_data import read_local"
   ],
   "metadata": {
    "collapsed": false,
    "pycharm": {
     "name": "#%%\n"
    }
   }
  },
  {
   "cell_type": "code",
   "execution_count": 2,
   "outputs": [],
   "source": [
    "path_folder = \"../data\"\n",
    "raw_data = \"/01_raw\"\n",
    "filename = \"/data_baseline_v0.parquet\""
   ],
   "metadata": {
    "collapsed": false,
    "pycharm": {
     "name": "#%%\n"
    }
   }
  },
  {
   "cell_type": "code",
   "execution_count": 3,
   "outputs": [
    {
     "name": "stdout",
     "output_type": "stream",
     "text": [
      "../data/01_raw/data_baseline_v0.parquet\n"
     ]
    }
   ],
   "source": [
    "print(path_folder + raw_data + filename)"
   ],
   "metadata": {
    "collapsed": false,
    "pycharm": {
     "name": "#%%\n"
    }
   }
  },
  {
   "cell_type": "code",
   "execution_count": 4,
   "outputs": [
    {
     "name": "stdout",
     "output_type": "stream",
     "text": [
      "��R\u0005\u0010\u00042�\t\u00011�\u0005\u0010\u0004M��2\u0005�`�8\u0001\u0004�\u0017).�S\u0005M~M\u0004\u0011�\tJOF\u0005\u0010\u0004��\t��.\u0005\u0010\u0004}�\t�I9\u0005\u0010\u0004C�\t�\u0004Nn\t�\u0004d'\tV�c\u0005Y`\u0004KO\th\u0004\u0015�)X\u00045�\tp\u000B_\u0005��H\u0004��)H\u0004��\tx\u0004g_)�\u0004��\t0\u0004�p)(\u0004��\t��}\u00058\u0004�@�U\u0005\u0010\u0004��\t8\u0004!e\t(\u0004-�)X\u0004��\t\u0010\u0004�w\t`\u0004��I\u0018\u0004��)\u0010\u0004)�\t�\u0004C�\t \u0004�4\tp\u0004�()\u0018\u0004��\u0005\u0000��)\u0012h6\u0005\u0011\u0004\u001C\u0013\t@\u0004��)H\u0004\u0001_\t�X[\u0005 \u0004��\t0\u0004Ey\tX\u0004��\tMg5\u0005 \u0004c\u0004\tPYW\u0005\u0010\u0004��\t@\u0004��)�\u0004�w\t�\u0004�a)P\u0000�\u0005&\u0010\u0000\u0000��7\u0005\r\n",
      "\t#�T\u0005\u0003�u\u0004��\t\u001D\u0014:\u0005\u0010\u0004\u000E�\t�\u0004\u0013�I�\u0004��\t \u0004\u0012�\t�\u0004T�)z�N\u00050\u0004]d\t�\u0004�7I�\u0004�>)�\u0004��\t\u0018\u0004\u0012\r\n",
      "i\u0010\u0004�\\iP\u0004\u001B�)�\u0005\u0002\u0005@\u0004��)H\u0004+8\t�\u0004O;)�\u0004ٲix\u0000�I\u0000[�I(\u0004\u0000�\t�\u0004���{\u0005I�I\u0004��\t�\u0004\u0018V\t�\u0004�\t(\u0000b-x\u0004.q\tx\u0004�.)P\u0004IP\tX\u0004M�\tH\u0004q�I\u0010\u0004I�I \u0004�MI�\u0004o�Ip\u0004��\tP\u0004ag)\u001E�Y\u0005x\u0004Z3\u0005\u0000&�\t�\u0004E\u000E\t\u0010\u0004V]\u0004\u0007e\tp\u0004~d\t�\u0004���\u0010\u0004\u0017��X\u0004�6I(\u0004�u\t0\u0004*�)�\u0004\u001A�\t\u0010\u0004pv\t�\u0004\r\n",
      "�) \u0004��\u0004�)(\u0004�[)\u0000\u0004̣)�\u0004@/\u0000ڭ�\u0004�B\t�\u0004�(��\u0004/�\tS�V\u0005�\u0004:�\t�\u0000�-(\u0004\u0015�I�z>\u0005 \u0004J��\u0018\u0004�/\t\u0018\u0004F\r\n",
      ")\u0000\u0004.�\t\u0018\u0004�kI0\u0004X!) \u0000�m\u0018\u0004�@\t�\u0004�B\t\u0018\u0004@\u001D)�\u0004\u0005�\t�\u0004h�\t�\u0004�T\u0004�w��\u0004ލI(\u0004��Ix\u0004�C)�\u0004e)\t�\u0004\u001Fv\t�\u0004��\tX\u0004��\t�\u0004\u001EJ\t`\u0004`0I�\u0004�]\u0004�:\t�\u0004�\r\n",
      "�\u0004�\"\tX\u0004ћ�4Ea\u0004��)�\u0004f�\t�\u0004�\u0010\tp\u0004�~� \u0004�W\th\u0004��\u0005\u0000�g\t�\u0004�\u0002)\u0018�\th\u0000\u0004\u001A�\t\u0004��I�\u0004j^)�\u0004�s\t�\u0000�\u001AX\u0004\u0010k\t0\u0004]�\t�\u0004\u001E�)�\u0004�\tp\u0004j�\u0000\u0004\u0017�iH\u0004N\u0014I�\u0004��\t�\u0004��\th\u0004Q�IX\u0004;�\u0004τ\t0\u0000y)\u0018\u0000�\u001A\u00042RIX\u0004�6\u0016\u0004��\t�\u0004U#\tp\u0004\u0016�)P\u0004-�\t@\u0004Ew\tX\u0004,\u0005\u0000\\�\t\u0018\u0004�Z\tX\u0004�d\t8\u0004�`I�\u0004���\u0018\u0004�\u0003\t�\u0004�R)\u0010\u0004��\u0004�V)�\u0004j�\t8\u0004\u0005{\u0004g�\t�\u0004٩)\u0018\u0004\u0010ni�\u0004p\u0015\t�\u0004u+)\u0000\u0004�\u0014\t \u0004�]\tP\u0004!(I�\u0000�\u0004ÒIX\u0004N�\tP\u0004ܭ\t�\u0004��\tH\u0004LK\tH\u0004?)\t�\u0004h�\t(\u0004�s�P\u0004�\"I�\u0004<�)`\u0004���x\u00047�Ip\u0004$n\t0\u0004QH�(\u0004:�\u0004/�)(\u0004\f�I�\u0004�m\th\u0004��)�\u0004\u0010Ӊ\u0000\u0004��)�\u0004�P\t�\u0004�\r\n",
      "�\u0004��\t�\u0004P��\u0018\u0004u\u001D\t�\u0004�\tH\u0004U���\u0004ԁI�\u0004ݚ�P\u0004P�\t8\u0000�\r\n",
      "�\t�\u0004#l\t�\u0004�!\t�\u0004�n)�\u0004���\u0004\r\n",
      "P\u0004T\"\th\u0004��\tH\u0004�Q\t�\u0004\u0012p\t�\u0004L�I�\u0004\u0014�)h\u0004�߉@\u0004}x%\u0000|�Ih\u0004�\u0000�\u0004j�IP\u0004�O\t�\u0004��)�\u0004\u0018F)\u0000\u0004H�)8\u0004�ꩰ\u0004��iX\u0004\u0019\u0017�{%a\u0004��\t \u0004�\r\n",
      "�\u0004:~\t�\u0004�[)75C\u00059\u0004\u001D:\u0016P\u0000ip\u0004[���\u0004�n)�\u0000�\t\u0000�m\t�\u0004��\t�\u0004�3IP\u0004\u001F�\t!\u0004'�\t�\u0004`\u0003\t�\u0004�(\u0004:�\tH\u0004T���\u0004��I\u0010\u0004�6�X\u0004�8\t \u0004C�\t \u0004wJ)�\u0004v�I�\u0004Ϣ\tH\u0004,)�\u0004$���\u0004��)8\u0004Մ��\u0004L�\tH\u0000\r\n"
     ]
    }
   ],
   "source": [
    "!head ../data/01_raw/data_baseline_v0.parquet"
   ],
   "metadata": {
    "collapsed": false,
    "pycharm": {
     "name": "#%%\n"
    }
   }
  },
  {
   "cell_type": "code",
   "execution_count": 5,
   "outputs": [
    {
     "name": "stdout",
     "output_type": "stream",
     "text": [
      "Requirement already satisfied: pyarrow in /Users/federicomoreno/personal/juanmaria/venv/lib/python3.8/site-packages (9.0.0)\r\n",
      "Requirement already satisfied: numpy>=1.16.6 in /Users/federicomoreno/personal/juanmaria/venv/lib/python3.8/site-packages (from pyarrow) (1.23.2)\r\n",
      "\u001B[33mWARNING: You are using pip version 21.3.1; however, version 22.2.2 is available.\r\n",
      "You should consider upgrading via the '/Users/federicomoreno/personal/juanmaria/venv/bin/python -m pip install --upgrade pip' command.\u001B[0m\r\n"
     ]
    }
   ],
   "source": [
    "!pip install pyarrow"
   ],
   "metadata": {
    "collapsed": false,
    "pycharm": {
     "name": "#%%\n"
    }
   }
  },
  {
   "cell_type": "code",
   "execution_count": 6,
   "outputs": [],
   "source": [
    "df = pd.read_parquet(path_folder + raw_data + filename)"
   ],
   "metadata": {
    "collapsed": false,
    "pycharm": {
     "name": "#%%\n"
    }
   }
  },
  {
   "cell_type": "code",
   "execution_count": 7,
   "outputs": [
    {
     "data": {
      "text/plain": "   user_id     session_id      session_start_time        session_end_time  \\\n0  4544406  1640995204016 2022-01-01 00:00:05.168 2022-01-01 00:00:06.535   \n1  5331938  1640994855839 2022-01-01 00:00:06.994 2022-01-01 00:13:08.025   \n2  8562331  1640993452322 2022-01-01 00:00:26.395 2022-01-01 00:00:26.395   \n3  8511387  1640995227918 2022-01-01 00:00:27.983 2022-01-01 00:00:27.983   \n4  3871376  1640995240826 2022-01-01 00:00:40.844 2022-01-01 00:00:40.844   \n\n                                        utm_campaign utm_source  \\\n0  mx-pue-sales-oportunities-daba-facebook-ao_add...   facebook   \n1  mx-gdl-sales-oportunities-daba-facebook-ao_add...   facebook   \n2  mx-cdmx-sales-oportunities-targetylal-facebook...   facebook   \n3  mx-gdl-sales-oportunities-rmkt-facebook-ao_add...   facebook   \n4  mx-cdmx-sales-oportunities-rmkt-facebook-ao_ad...   facebook   \n\n   total_sessions  session_duration  timeaccum date_reserve  \\\n0               1                 1          1   2023-01-01   \n1               1               781        781   2023-01-01   \n2               1                 0          0   2023-01-01   \n3               1                 0          0   2023-01-01   \n4               1                 0          0   2023-01-01   \n\n   user_with_reserve  stock_id  days_event_to_reserve  target  \n0                NaN       NaN                    364       0  \n1                NaN       NaN                    364       0  \n2                NaN       NaN                    364       0  \n3                NaN       NaN                    364       0  \n4                NaN       NaN                    364       0  ",
      "text/html": "<div>\n<style scoped>\n    .dataframe tbody tr th:only-of-type {\n        vertical-align: middle;\n    }\n\n    .dataframe tbody tr th {\n        vertical-align: top;\n    }\n\n    .dataframe thead th {\n        text-align: right;\n    }\n</style>\n<table border=\"1\" class=\"dataframe\">\n  <thead>\n    <tr style=\"text-align: right;\">\n      <th></th>\n      <th>user_id</th>\n      <th>session_id</th>\n      <th>session_start_time</th>\n      <th>session_end_time</th>\n      <th>utm_campaign</th>\n      <th>utm_source</th>\n      <th>total_sessions</th>\n      <th>session_duration</th>\n      <th>timeaccum</th>\n      <th>date_reserve</th>\n      <th>user_with_reserve</th>\n      <th>stock_id</th>\n      <th>days_event_to_reserve</th>\n      <th>target</th>\n    </tr>\n  </thead>\n  <tbody>\n    <tr>\n      <th>0</th>\n      <td>4544406</td>\n      <td>1640995204016</td>\n      <td>2022-01-01 00:00:05.168</td>\n      <td>2022-01-01 00:00:06.535</td>\n      <td>mx-pue-sales-oportunities-daba-facebook-ao_add...</td>\n      <td>facebook</td>\n      <td>1</td>\n      <td>1</td>\n      <td>1</td>\n      <td>2023-01-01</td>\n      <td>NaN</td>\n      <td>NaN</td>\n      <td>364</td>\n      <td>0</td>\n    </tr>\n    <tr>\n      <th>1</th>\n      <td>5331938</td>\n      <td>1640994855839</td>\n      <td>2022-01-01 00:00:06.994</td>\n      <td>2022-01-01 00:13:08.025</td>\n      <td>mx-gdl-sales-oportunities-daba-facebook-ao_add...</td>\n      <td>facebook</td>\n      <td>1</td>\n      <td>781</td>\n      <td>781</td>\n      <td>2023-01-01</td>\n      <td>NaN</td>\n      <td>NaN</td>\n      <td>364</td>\n      <td>0</td>\n    </tr>\n    <tr>\n      <th>2</th>\n      <td>8562331</td>\n      <td>1640993452322</td>\n      <td>2022-01-01 00:00:26.395</td>\n      <td>2022-01-01 00:00:26.395</td>\n      <td>mx-cdmx-sales-oportunities-targetylal-facebook...</td>\n      <td>facebook</td>\n      <td>1</td>\n      <td>0</td>\n      <td>0</td>\n      <td>2023-01-01</td>\n      <td>NaN</td>\n      <td>NaN</td>\n      <td>364</td>\n      <td>0</td>\n    </tr>\n    <tr>\n      <th>3</th>\n      <td>8511387</td>\n      <td>1640995227918</td>\n      <td>2022-01-01 00:00:27.983</td>\n      <td>2022-01-01 00:00:27.983</td>\n      <td>mx-gdl-sales-oportunities-rmkt-facebook-ao_add...</td>\n      <td>facebook</td>\n      <td>1</td>\n      <td>0</td>\n      <td>0</td>\n      <td>2023-01-01</td>\n      <td>NaN</td>\n      <td>NaN</td>\n      <td>364</td>\n      <td>0</td>\n    </tr>\n    <tr>\n      <th>4</th>\n      <td>3871376</td>\n      <td>1640995240826</td>\n      <td>2022-01-01 00:00:40.844</td>\n      <td>2022-01-01 00:00:40.844</td>\n      <td>mx-cdmx-sales-oportunities-rmkt-facebook-ao_ad...</td>\n      <td>facebook</td>\n      <td>1</td>\n      <td>0</td>\n      <td>0</td>\n      <td>2023-01-01</td>\n      <td>NaN</td>\n      <td>NaN</td>\n      <td>364</td>\n      <td>0</td>\n    </tr>\n  </tbody>\n</table>\n</div>"
     },
     "execution_count": 7,
     "metadata": {},
     "output_type": "execute_result"
    }
   ],
   "source": [
    "df.head()"
   ],
   "metadata": {
    "collapsed": false,
    "pycharm": {
     "name": "#%%\n"
    }
   }
  },
  {
   "cell_type": "code",
   "execution_count": 8,
   "outputs": [
    {
     "name": "stdout",
     "output_type": "stream",
     "text": [
      "<class 'pandas.core.frame.DataFrame'>\n",
      "Int64Index: 1257918 entries, 0 to 1522461\n",
      "Data columns (total 14 columns):\n",
      " #   Column                 Non-Null Count    Dtype         \n",
      "---  ------                 --------------    -----         \n",
      " 0   user_id                1257918 non-null  int64         \n",
      " 1   session_id             1257918 non-null  int64         \n",
      " 2   session_start_time     1257918 non-null  datetime64[ns]\n",
      " 3   session_end_time       1257918 non-null  datetime64[ns]\n",
      " 4   utm_campaign           1257918 non-null  object        \n",
      " 5   utm_source             1257850 non-null  category      \n",
      " 6   total_sessions         1257918 non-null  int64         \n",
      " 7   session_duration       1257918 non-null  int64         \n",
      " 8   timeaccum              1257918 non-null  int64         \n",
      " 9   date_reserve           1257918 non-null  datetime64[ns]\n",
      " 10  user_with_reserve      78113 non-null    float64       \n",
      " 11  stock_id               78113 non-null    float64       \n",
      " 12  days_event_to_reserve  1257918 non-null  int64         \n",
      " 13  target                 1257918 non-null  int64         \n",
      "dtypes: category(1), datetime64[ns](3), float64(2), int64(7), object(1)\n",
      "memory usage: 135.6+ MB\n"
     ]
    }
   ],
   "source": [
    "df.info()"
   ],
   "metadata": {
    "collapsed": false,
    "pycharm": {
     "name": "#%%\n"
    }
   }
  },
  {
   "cell_type": "code",
   "execution_count": 9,
   "outputs": [],
   "source": [
    "from utils import reduce_memory"
   ],
   "metadata": {
    "collapsed": false,
    "pycharm": {
     "name": "#%%\n"
    }
   }
  },
  {
   "cell_type": "code",
   "execution_count": 10,
   "outputs": [
    {
     "data": {
      "text/plain": "dtype('<M8[ns]')"
     },
     "execution_count": 10,
     "metadata": {},
     "output_type": "execute_result"
    }
   ],
   "source": [
    "df[\"date_reserve\"].dtype"
   ],
   "metadata": {
    "collapsed": false,
    "pycharm": {
     "name": "#%%\n"
    }
   }
  },
  {
   "cell_type": "code",
   "execution_count": 11,
   "outputs": [],
   "source": [
    "#selected_cols = [col for col in df.columns if df[col].dtype!='<M8[ns]']\n",
    "\n",
    "selected_cols = []\n",
    "for columna in df.columns:\n",
    "    if df[columna].dtype != '<M8[ns]':\n",
    "        selected_cols.append(columna)\n"
   ],
   "metadata": {
    "collapsed": false,
    "pycharm": {
     "name": "#%%\n"
    }
   }
  },
  {
   "cell_type": "code",
   "execution_count": 12,
   "outputs": [
    {
     "data": {
      "text/plain": "['user_id',\n 'session_id',\n 'utm_campaign',\n 'utm_source',\n 'total_sessions',\n 'session_duration',\n 'timeaccum',\n 'user_with_reserve',\n 'stock_id',\n 'days_event_to_reserve',\n 'target']"
     },
     "execution_count": 12,
     "metadata": {},
     "output_type": "execute_result"
    }
   ],
   "source": [
    "selected_cols"
   ],
   "metadata": {
    "collapsed": false,
    "pycharm": {
     "name": "#%%\n"
    }
   }
  },
  {
   "cell_type": "code",
   "execution_count": 13,
   "outputs": [
    {
     "name": "stderr",
     "output_type": "stream",
     "text": [
      "/Users/federicomoreno/personal/juanmaria/data_eng_project/laboratorio/utils.py:17: SettingWithCopyWarning: \n",
      "A value is trying to be set on a copy of a slice from a DataFrame.\n",
      "Try using .loc[row_indexer,col_indexer] = value instead\n",
      "\n",
      "See the caveats in the documentation: https://pandas.pydata.org/pandas-docs/stable/user_guide/indexing.html#returning-a-view-versus-a-copy\n",
      "  df[col] = pd.to_numeric(df[col], downcast=type)\n",
      "/Users/federicomoreno/personal/juanmaria/data_eng_project/laboratorio/utils.py:19: SettingWithCopyWarning: \n",
      "A value is trying to be set on a copy of a slice from a DataFrame.\n",
      "Try using .loc[row_indexer,col_indexer] = value instead\n",
      "\n",
      "See the caveats in the documentation: https://pandas.pydata.org/pandas-docs/stable/user_guide/indexing.html#returning-a-view-versus-a-copy\n",
      "  df[col] = pd.to_numeric(df[col], downcast=\"integer\")\n"
     ]
    },
    {
     "name": "stdout",
     "output_type": "stream",
     "text": [
      "optimized size by 43.99999999999999 % | 0.062897364 GB\n"
     ]
    }
   ],
   "source": [
    "df[selected_cols] = reduce_memory(df[selected_cols])"
   ],
   "metadata": {
    "collapsed": false,
    "pycharm": {
     "name": "#%%\n"
    }
   }
  },
  {
   "cell_type": "code",
   "execution_count": 14,
   "outputs": [
    {
     "name": "stdout",
     "output_type": "stream",
     "text": [
      "<class 'pandas.core.frame.DataFrame'>\n",
      "Int64Index: 1257918 entries, 0 to 1522461\n",
      "Data columns (total 14 columns):\n",
      " #   Column                 Non-Null Count    Dtype         \n",
      "---  ------                 --------------    -----         \n",
      " 0   user_id                1257918 non-null  int32         \n",
      " 1   session_id             1257918 non-null  int64         \n",
      " 2   session_start_time     1257918 non-null  datetime64[ns]\n",
      " 3   session_end_time       1257918 non-null  datetime64[ns]\n",
      " 4   utm_campaign           1257918 non-null  object        \n",
      " 5   utm_source             1257850 non-null  category      \n",
      " 6   total_sessions         1257918 non-null  int16         \n",
      " 7   session_duration       1257918 non-null  int32         \n",
      " 8   timeaccum              1257918 non-null  int32         \n",
      " 9   date_reserve           1257918 non-null  datetime64[ns]\n",
      " 10  user_with_reserve      78113 non-null    float32       \n",
      " 11  stock_id               78113 non-null    float32       \n",
      " 12  days_event_to_reserve  1257918 non-null  int16         \n",
      " 13  target                 1257918 non-null  int8          \n",
      "dtypes: category(1), datetime64[ns](3), float32(2), int16(2), int32(3), int64(1), int8(1), object(1)\n",
      "memory usage: 88.8+ MB\n"
     ]
    }
   ],
   "source": [
    "df.info()"
   ],
   "metadata": {
    "collapsed": false,
    "pycharm": {
     "name": "#%%\n"
    }
   }
  },
  {
   "cell_type": "markdown",
   "source": [
    "Creo columnas de acuerdo al canal de contacto"
   ],
   "metadata": {
    "collapsed": false,
    "pycharm": {
     "name": "#%% md\n"
    }
   }
  },
  {
   "cell_type": "code",
   "execution_count": 15,
   "outputs": [],
   "source": [
    "df['remarketing'] = df.utm_campaign.str.contains('rmkt')\n",
    "df['purchases'] = df.utm_campaign.str.contains('purchase')\n",
    "df['whatsapp'] = df.utm_source == 'whatsapp'\n",
    "df['facebook'] = df.utm_source == 'facebook'\n",
    "df['google'] = df.utm_source == 'google'\n",
    "df['tiktok'] = df.utm_source == 'tiktok'\n",
    "df['insta'] = df.utm_source == 'instagram'\n",
    "df['sales'] = df.utm_campaign.str.contains('sale')\n",
    "df['hour'] = df.session_start_time.dt.hour"
   ],
   "metadata": {
    "collapsed": false,
    "pycharm": {
     "name": "#%%\n"
    }
   }
  },
  {
   "cell_type": "markdown",
   "source": [
    "Separo el dataset en X = variables, Y= variable dependiente o target"
   ],
   "metadata": {
    "collapsed": false,
    "pycharm": {
     "name": "#%% md\n"
    }
   }
  },
  {
   "cell_type": "code",
   "execution_count": 16,
   "outputs": [],
   "source": [
    "Y = df.target\n",
    "X = df[['total_sessions', 'session_duration', 'timeaccum','remarketing','purchases','whatsapp','sales','hour','facebook','google','tiktok','insta']]"
   ],
   "metadata": {
    "collapsed": false,
    "pycharm": {
     "name": "#%%\n"
    }
   }
  },
  {
   "cell_type": "markdown",
   "source": [
    "Preproceso las columnas para que funcionene mejor en el modelo"
   ],
   "metadata": {
    "collapsed": false,
    "pycharm": {
     "name": "#%% md\n"
    }
   }
  },
  {
   "cell_type": "code",
   "execution_count": 17,
   "outputs": [
    {
     "name": "stderr",
     "output_type": "stream",
     "text": [
      "/var/folders/hc/jwd08zzs6zg8d4ktgzqptl700000gp/T/ipykernel_16533/2559815566.py:3: SettingWithCopyWarning: \n",
      "A value is trying to be set on a copy of a slice from a DataFrame.\n",
      "Try using .loc[row_indexer,col_indexer] = value instead\n",
      "\n",
      "See the caveats in the documentation: https://pandas.pydata.org/pandas-docs/stable/user_guide/indexing.html#returning-a-view-versus-a-copy\n",
      "  X['session_duration'] = np.log(X['session_duration']+1)\n",
      "/var/folders/hc/jwd08zzs6zg8d4ktgzqptl700000gp/T/ipykernel_16533/2559815566.py:4: SettingWithCopyWarning: \n",
      "A value is trying to be set on a copy of a slice from a DataFrame.\n",
      "Try using .loc[row_indexer,col_indexer] = value instead\n",
      "\n",
      "See the caveats in the documentation: https://pandas.pydata.org/pandas-docs/stable/user_guide/indexing.html#returning-a-view-versus-a-copy\n",
      "  X['timeaccum'] = np.log(X['timeaccum']+1)\n",
      "/var/folders/hc/jwd08zzs6zg8d4ktgzqptl700000gp/T/ipykernel_16533/2559815566.py:5: SettingWithCopyWarning: \n",
      "A value is trying to be set on a copy of a slice from a DataFrame.\n",
      "Try using .loc[row_indexer,col_indexer] = value instead\n",
      "\n",
      "See the caveats in the documentation: https://pandas.pydata.org/pandas-docs/stable/user_guide/indexing.html#returning-a-view-versus-a-copy\n",
      "  X['total_sessions'] = np.log(X['total_sessions']+1)\n"
     ]
    }
   ],
   "source": [
    "import numpy as np\n",
    "\n",
    "X['session_duration'] = np.log(X['session_duration']+1)\n",
    "X['timeaccum'] = np.log(X['timeaccum']+1)\n",
    "X['total_sessions'] = np.log(X['total_sessions']+1)"
   ],
   "metadata": {
    "collapsed": false,
    "pycharm": {
     "name": "#%%\n"
    }
   }
  },
  {
   "cell_type": "markdown",
   "source": [
    "Transformo las columnas de string en columnas categoricas (que el algoritmo entiende que son categoricas"
   ],
   "metadata": {
    "collapsed": false,
    "pycharm": {
     "name": "#%% md\n"
    }
   }
  },
  {
   "cell_type": "code",
   "execution_count": 20,
   "outputs": [
    {
     "data": {
      "text/plain": "  Cliente   Canal\n0       1      FB\n1       2      WP\n2       3  Tiktok",
      "text/html": "<div>\n<style scoped>\n    .dataframe tbody tr th:only-of-type {\n        vertical-align: middle;\n    }\n\n    .dataframe tbody tr th {\n        vertical-align: top;\n    }\n\n    .dataframe thead th {\n        text-align: right;\n    }\n</style>\n<table border=\"1\" class=\"dataframe\">\n  <thead>\n    <tr style=\"text-align: right;\">\n      <th></th>\n      <th>Cliente</th>\n      <th>Canal</th>\n    </tr>\n  </thead>\n  <tbody>\n    <tr>\n      <th>0</th>\n      <td>1</td>\n      <td>FB</td>\n    </tr>\n    <tr>\n      <th>1</th>\n      <td>2</td>\n      <td>WP</td>\n    </tr>\n    <tr>\n      <th>2</th>\n      <td>3</td>\n      <td>Tiktok</td>\n    </tr>\n  </tbody>\n</table>\n</div>"
     },
     "execution_count": 20,
     "metadata": {},
     "output_type": "execute_result"
    }
   ],
   "source": [
    "example = pd.DataFrame({\"Cliente\":[\"1\",\"2\",\"3\"],\n",
    "              \"Canal\":[\"FB\",\"WP\",\"Tiktok\"]})\n",
    "\n",
    "example"
   ],
   "metadata": {
    "collapsed": false,
    "pycharm": {
     "name": "#%%\n"
    }
   }
  },
  {
   "cell_type": "code",
   "execution_count": 21,
   "outputs": [
    {
     "data": {
      "text/plain": "  Cliente  canal_FB  canal_Tiktok  canal_WP\n0       1         1             0         0\n1       2         0             0         1\n2       3         0             1         0",
      "text/html": "<div>\n<style scoped>\n    .dataframe tbody tr th:only-of-type {\n        vertical-align: middle;\n    }\n\n    .dataframe tbody tr th {\n        vertical-align: top;\n    }\n\n    .dataframe thead th {\n        text-align: right;\n    }\n</style>\n<table border=\"1\" class=\"dataframe\">\n  <thead>\n    <tr style=\"text-align: right;\">\n      <th></th>\n      <th>Cliente</th>\n      <th>canal_FB</th>\n      <th>canal_Tiktok</th>\n      <th>canal_WP</th>\n    </tr>\n  </thead>\n  <tbody>\n    <tr>\n      <th>0</th>\n      <td>1</td>\n      <td>1</td>\n      <td>0</td>\n      <td>0</td>\n    </tr>\n    <tr>\n      <th>1</th>\n      <td>2</td>\n      <td>0</td>\n      <td>0</td>\n      <td>1</td>\n    </tr>\n    <tr>\n      <th>2</th>\n      <td>3</td>\n      <td>0</td>\n      <td>1</td>\n      <td>0</td>\n    </tr>\n  </tbody>\n</table>\n</div>"
     },
     "execution_count": 21,
     "metadata": {},
     "output_type": "execute_result"
    }
   ],
   "source": [
    "pd.get_dummies(example, prefix=\"canal\", prefix_sep=\"_\", columns=[\"Canal\"])"
   ],
   "metadata": {
    "collapsed": false,
    "pycharm": {
     "name": "#%%\n"
    }
   }
  },
  {
   "cell_type": "markdown",
   "source": [
    "Como mi modelo me lo hace las categoricas como Dummie automaticamente, lo único que tengo que hacer es pasar las columnas a type \"category\""
   ],
   "metadata": {
    "collapsed": false,
    "pycharm": {
     "name": "#%% md\n"
    }
   }
  },
  {
   "cell_type": "code",
   "execution_count": 22,
   "outputs": [],
   "source": [
    "for column in X.columns:\n",
    "    if X[column].dtype == 'str':\n",
    "        X[column] = X[column].astype('category')"
   ],
   "metadata": {
    "collapsed": false,
    "pycharm": {
     "name": "#%%\n"
    }
   }
  },
  {
   "cell_type": "code",
   "execution_count": 27,
   "outputs": [
    {
     "name": "stderr",
     "output_type": "stream",
     "text": [
      "/var/folders/hc/jwd08zzs6zg8d4ktgzqptl700000gp/T/ipykernel_16533/1994181129.py:2: SettingWithCopyWarning: \n",
      "A value is trying to be set on a copy of a slice from a DataFrame.\n",
      "Try using .loc[row_indexer,col_indexer] = value instead\n",
      "\n",
      "See the caveats in the documentation: https://pandas.pydata.org/pandas-docs/stable/user_guide/indexing.html#returning-a-view-versus-a-copy\n",
      "  user_id_df[\"VALOR_CONSTANTE\"] = 1\n"
     ]
    }
   ],
   "source": [
    "user_id_df = df[[\"user_id\"]]\n",
    "user_id_df[\"VALOR_CONSTANTE\"] = 1"
   ],
   "metadata": {
    "collapsed": false,
    "pycharm": {
     "name": "#%%\n"
    }
   }
  },
  {
   "cell_type": "code",
   "execution_count": 28,
   "outputs": [
    {
     "data": {
      "text/plain": "          user_id  VALOR_CONSTANTE\n0         4544406                1\n1         5331938                1\n2         8562331                1\n3         8511387                1\n4         3871376                1\n...           ...              ...\n1522453  10398583                1\n1522454  10231979                1\n1522458   8599790                1\n1522460   3546653                1\n1522461  10103195                1\n\n[1257918 rows x 2 columns]",
      "text/html": "<div>\n<style scoped>\n    .dataframe tbody tr th:only-of-type {\n        vertical-align: middle;\n    }\n\n    .dataframe tbody tr th {\n        vertical-align: top;\n    }\n\n    .dataframe thead th {\n        text-align: right;\n    }\n</style>\n<table border=\"1\" class=\"dataframe\">\n  <thead>\n    <tr style=\"text-align: right;\">\n      <th></th>\n      <th>user_id</th>\n      <th>VALOR_CONSTANTE</th>\n    </tr>\n  </thead>\n  <tbody>\n    <tr>\n      <th>0</th>\n      <td>4544406</td>\n      <td>1</td>\n    </tr>\n    <tr>\n      <th>1</th>\n      <td>5331938</td>\n      <td>1</td>\n    </tr>\n    <tr>\n      <th>2</th>\n      <td>8562331</td>\n      <td>1</td>\n    </tr>\n    <tr>\n      <th>3</th>\n      <td>8511387</td>\n      <td>1</td>\n    </tr>\n    <tr>\n      <th>4</th>\n      <td>3871376</td>\n      <td>1</td>\n    </tr>\n    <tr>\n      <th>...</th>\n      <td>...</td>\n      <td>...</td>\n    </tr>\n    <tr>\n      <th>1522453</th>\n      <td>10398583</td>\n      <td>1</td>\n    </tr>\n    <tr>\n      <th>1522454</th>\n      <td>10231979</td>\n      <td>1</td>\n    </tr>\n    <tr>\n      <th>1522458</th>\n      <td>8599790</td>\n      <td>1</td>\n    </tr>\n    <tr>\n      <th>1522460</th>\n      <td>3546653</td>\n      <td>1</td>\n    </tr>\n    <tr>\n      <th>1522461</th>\n      <td>10103195</td>\n      <td>1</td>\n    </tr>\n  </tbody>\n</table>\n<p>1257918 rows × 2 columns</p>\n</div>"
     },
     "execution_count": 28,
     "metadata": {},
     "output_type": "execute_result"
    }
   ],
   "source": [
    "user_id_df"
   ],
   "metadata": {
    "collapsed": false,
    "pycharm": {
     "name": "#%%\n"
    }
   }
  },
  {
   "cell_type": "code",
   "execution_count": 29,
   "outputs": [
    {
     "data": {
      "text/plain": "          user_id  VALOR_CONSTANTE  total_sessions  session_duration  \\\n0         4544406                1        0.693147          0.693147   \n1         5331938                1        0.693147          6.661855   \n2         8562331                1        0.693147          0.000000   \n3         8511387                1        0.693147          0.000000   \n4         3871376                1        0.693147          0.000000   \n...           ...              ...             ...               ...   \n1522453  10398583                1        1.386294          0.000000   \n1522454  10231979                1        1.098612          0.000000   \n1522458   8599790                1        1.386294          1.098612   \n1522460   3546653                1        2.079442          0.000000   \n1522461  10103195                1        1.098612          0.000000   \n\n         timeaccum  remarketing  purchases  whatsapp  sales  hour  facebook  \\\n0         0.693147        False      False     False   True     0      True   \n1         6.661855        False      False     False   True     0      True   \n2         0.000000        False      False     False   True     0      True   \n3         0.000000         True      False     False   True     0      True   \n4         0.000000         True      False     False   True     0      True   \n...            ...          ...        ...       ...    ...   ...       ...   \n1522453   6.167516        False      False     False   True    23      True   \n1522454   0.000000        False       True     False  False    23      True   \n1522458   7.053586        False      False     False   True    23     False   \n1522460  13.062660        False      False     False   True    23      True   \n1522461   4.394449        False      False     False   True    23      True   \n\n         google  tiktok  insta  \n0         False   False  False  \n1         False   False  False  \n2         False   False  False  \n3         False   False  False  \n4         False   False  False  \n...         ...     ...    ...  \n1522453   False   False  False  \n1522454   False   False  False  \n1522458   False    True  False  \n1522460   False   False  False  \n1522461   False   False  False  \n\n[1257918 rows x 14 columns]",
      "text/html": "<div>\n<style scoped>\n    .dataframe tbody tr th:only-of-type {\n        vertical-align: middle;\n    }\n\n    .dataframe tbody tr th {\n        vertical-align: top;\n    }\n\n    .dataframe thead th {\n        text-align: right;\n    }\n</style>\n<table border=\"1\" class=\"dataframe\">\n  <thead>\n    <tr style=\"text-align: right;\">\n      <th></th>\n      <th>user_id</th>\n      <th>VALOR_CONSTANTE</th>\n      <th>total_sessions</th>\n      <th>session_duration</th>\n      <th>timeaccum</th>\n      <th>remarketing</th>\n      <th>purchases</th>\n      <th>whatsapp</th>\n      <th>sales</th>\n      <th>hour</th>\n      <th>facebook</th>\n      <th>google</th>\n      <th>tiktok</th>\n      <th>insta</th>\n    </tr>\n  </thead>\n  <tbody>\n    <tr>\n      <th>0</th>\n      <td>4544406</td>\n      <td>1</td>\n      <td>0.693147</td>\n      <td>0.693147</td>\n      <td>0.693147</td>\n      <td>False</td>\n      <td>False</td>\n      <td>False</td>\n      <td>True</td>\n      <td>0</td>\n      <td>True</td>\n      <td>False</td>\n      <td>False</td>\n      <td>False</td>\n    </tr>\n    <tr>\n      <th>1</th>\n      <td>5331938</td>\n      <td>1</td>\n      <td>0.693147</td>\n      <td>6.661855</td>\n      <td>6.661855</td>\n      <td>False</td>\n      <td>False</td>\n      <td>False</td>\n      <td>True</td>\n      <td>0</td>\n      <td>True</td>\n      <td>False</td>\n      <td>False</td>\n      <td>False</td>\n    </tr>\n    <tr>\n      <th>2</th>\n      <td>8562331</td>\n      <td>1</td>\n      <td>0.693147</td>\n      <td>0.000000</td>\n      <td>0.000000</td>\n      <td>False</td>\n      <td>False</td>\n      <td>False</td>\n      <td>True</td>\n      <td>0</td>\n      <td>True</td>\n      <td>False</td>\n      <td>False</td>\n      <td>False</td>\n    </tr>\n    <tr>\n      <th>3</th>\n      <td>8511387</td>\n      <td>1</td>\n      <td>0.693147</td>\n      <td>0.000000</td>\n      <td>0.000000</td>\n      <td>True</td>\n      <td>False</td>\n      <td>False</td>\n      <td>True</td>\n      <td>0</td>\n      <td>True</td>\n      <td>False</td>\n      <td>False</td>\n      <td>False</td>\n    </tr>\n    <tr>\n      <th>4</th>\n      <td>3871376</td>\n      <td>1</td>\n      <td>0.693147</td>\n      <td>0.000000</td>\n      <td>0.000000</td>\n      <td>True</td>\n      <td>False</td>\n      <td>False</td>\n      <td>True</td>\n      <td>0</td>\n      <td>True</td>\n      <td>False</td>\n      <td>False</td>\n      <td>False</td>\n    </tr>\n    <tr>\n      <th>...</th>\n      <td>...</td>\n      <td>...</td>\n      <td>...</td>\n      <td>...</td>\n      <td>...</td>\n      <td>...</td>\n      <td>...</td>\n      <td>...</td>\n      <td>...</td>\n      <td>...</td>\n      <td>...</td>\n      <td>...</td>\n      <td>...</td>\n      <td>...</td>\n    </tr>\n    <tr>\n      <th>1522453</th>\n      <td>10398583</td>\n      <td>1</td>\n      <td>1.386294</td>\n      <td>0.000000</td>\n      <td>6.167516</td>\n      <td>False</td>\n      <td>False</td>\n      <td>False</td>\n      <td>True</td>\n      <td>23</td>\n      <td>True</td>\n      <td>False</td>\n      <td>False</td>\n      <td>False</td>\n    </tr>\n    <tr>\n      <th>1522454</th>\n      <td>10231979</td>\n      <td>1</td>\n      <td>1.098612</td>\n      <td>0.000000</td>\n      <td>0.000000</td>\n      <td>False</td>\n      <td>True</td>\n      <td>False</td>\n      <td>False</td>\n      <td>23</td>\n      <td>True</td>\n      <td>False</td>\n      <td>False</td>\n      <td>False</td>\n    </tr>\n    <tr>\n      <th>1522458</th>\n      <td>8599790</td>\n      <td>1</td>\n      <td>1.386294</td>\n      <td>1.098612</td>\n      <td>7.053586</td>\n      <td>False</td>\n      <td>False</td>\n      <td>False</td>\n      <td>True</td>\n      <td>23</td>\n      <td>False</td>\n      <td>False</td>\n      <td>True</td>\n      <td>False</td>\n    </tr>\n    <tr>\n      <th>1522460</th>\n      <td>3546653</td>\n      <td>1</td>\n      <td>2.079442</td>\n      <td>0.000000</td>\n      <td>13.062660</td>\n      <td>False</td>\n      <td>False</td>\n      <td>False</td>\n      <td>True</td>\n      <td>23</td>\n      <td>True</td>\n      <td>False</td>\n      <td>False</td>\n      <td>False</td>\n    </tr>\n    <tr>\n      <th>1522461</th>\n      <td>10103195</td>\n      <td>1</td>\n      <td>1.098612</td>\n      <td>0.000000</td>\n      <td>4.394449</td>\n      <td>False</td>\n      <td>False</td>\n      <td>False</td>\n      <td>True</td>\n      <td>23</td>\n      <td>True</td>\n      <td>False</td>\n      <td>False</td>\n      <td>False</td>\n    </tr>\n  </tbody>\n</table>\n<p>1257918 rows × 14 columns</p>\n</div>"
     },
     "execution_count": 29,
     "metadata": {},
     "output_type": "execute_result"
    }
   ],
   "source": [
    "\n",
    "#mergeo user_id con features de mi modelo\n",
    "pd.merge(user_id_df, X, how=\"inner\", right_index=True, left_index=True)"
   ],
   "metadata": {
    "collapsed": false,
    "pycharm": {
     "name": "#%%\n"
    }
   }
  },
  {
   "cell_type": "markdown",
   "source": [
    "# Corro el modelo"
   ],
   "metadata": {
    "collapsed": false,
    "pycharm": {
     "name": "#%% md\n"
    }
   }
  },
  {
   "cell_type": "code",
   "execution_count": 31,
   "outputs": [
    {
     "name": "stdout",
     "output_type": "stream",
     "text": [
      "Collecting lightgbm\r\n",
      "  Downloading lightgbm-3.3.2-py3-none-macosx_10_14_x86_64.macosx_10_15_x86_64.macosx_11_0_x86_64.whl (1.2 MB)\r\n",
      "     |████████████████████████████████| 1.2 MB 11.9 MB/s            \r\n",
      "\u001B[?25hCollecting scipy\r\n",
      "  Using cached scipy-1.9.1-cp38-cp38-macosx_12_0_universal2.macosx_10_9_x86_64.whl (58.1 MB)\r\n",
      "Requirement already satisfied: wheel in /Users/federicomoreno/personal/juanmaria/venv/lib/python3.8/site-packages (from lightgbm) (0.37.1)\r\n",
      "Requirement already satisfied: numpy in /Users/federicomoreno/personal/juanmaria/venv/lib/python3.8/site-packages (from lightgbm) (1.23.2)\r\n",
      "Collecting scikit-learn!=0.22.0\r\n",
      "  Using cached scikit_learn-1.1.2-cp38-cp38-macosx_10_9_x86_64.whl (8.6 MB)\r\n",
      "Collecting joblib>=1.0.0\r\n",
      "  Using cached joblib-1.1.0-py2.py3-none-any.whl (306 kB)\r\n",
      "Collecting threadpoolctl>=2.0.0\r\n",
      "  Using cached threadpoolctl-3.1.0-py3-none-any.whl (14 kB)\r\n",
      "Installing collected packages: threadpoolctl, scipy, joblib, scikit-learn, lightgbm\r\n",
      "Successfully installed joblib-1.1.0 lightgbm-3.3.2 scikit-learn-1.1.2 scipy-1.9.1 threadpoolctl-3.1.0\r\n",
      "\u001B[33mWARNING: You are using pip version 21.3.1; however, version 22.2.2 is available.\r\n",
      "You should consider upgrading via the '/Users/federicomoreno/personal/juanmaria/venv/bin/python -m pip install --upgrade pip' command.\u001B[0m\r\n"
     ]
    }
   ],
   "source": [
    "#!pip install lightgbm"
   ],
   "metadata": {
    "collapsed": false,
    "pycharm": {
     "name": "#%%\n"
    }
   }
  },
  {
   "cell_type": "code",
   "execution_count": 32,
   "outputs": [],
   "source": [
    "from lightgbm import LGBMClassifier, LGBMRegressor"
   ],
   "metadata": {
    "collapsed": false,
    "pycharm": {
     "name": "#%%\n"
    }
   }
  },
  {
   "cell_type": "code",
   "execution_count": null,
   "outputs": [],
   "source": [
    "\n"
   ],
   "metadata": {
    "collapsed": false,
    "pycharm": {
     "name": "#%%\n"
    }
   }
  },
  {
   "cell_type": "code",
   "execution_count": 33,
   "outputs": [
    {
     "name": "stdout",
     "output_type": "stream",
     "text": [
      "[LightGBM] [Warning] bagging_fraction is set=0.3, subsample=1.0 will be ignored. Current value: bagging_fraction=0.3\n",
      "[LightGBM] [Warning] bagging_freq is set=1, subsample_freq=0 will be ignored. Current value: bagging_freq=1\n"
     ]
    },
    {
     "data": {
      "text/plain": "LGBMClassifier(bagging_fraction=0.3, bagging_freq=1, boosting_type='rf')",
      "text/html": "<style>#sk-container-id-1 {color: black;background-color: white;}#sk-container-id-1 pre{padding: 0;}#sk-container-id-1 div.sk-toggleable {background-color: white;}#sk-container-id-1 label.sk-toggleable__label {cursor: pointer;display: block;width: 100%;margin-bottom: 0;padding: 0.3em;box-sizing: border-box;text-align: center;}#sk-container-id-1 label.sk-toggleable__label-arrow:before {content: \"▸\";float: left;margin-right: 0.25em;color: #696969;}#sk-container-id-1 label.sk-toggleable__label-arrow:hover:before {color: black;}#sk-container-id-1 div.sk-estimator:hover label.sk-toggleable__label-arrow:before {color: black;}#sk-container-id-1 div.sk-toggleable__content {max-height: 0;max-width: 0;overflow: hidden;text-align: left;background-color: #f0f8ff;}#sk-container-id-1 div.sk-toggleable__content pre {margin: 0.2em;color: black;border-radius: 0.25em;background-color: #f0f8ff;}#sk-container-id-1 input.sk-toggleable__control:checked~div.sk-toggleable__content {max-height: 200px;max-width: 100%;overflow: auto;}#sk-container-id-1 input.sk-toggleable__control:checked~label.sk-toggleable__label-arrow:before {content: \"▾\";}#sk-container-id-1 div.sk-estimator input.sk-toggleable__control:checked~label.sk-toggleable__label {background-color: #d4ebff;}#sk-container-id-1 div.sk-label input.sk-toggleable__control:checked~label.sk-toggleable__label {background-color: #d4ebff;}#sk-container-id-1 input.sk-hidden--visually {border: 0;clip: rect(1px 1px 1px 1px);clip: rect(1px, 1px, 1px, 1px);height: 1px;margin: -1px;overflow: hidden;padding: 0;position: absolute;width: 1px;}#sk-container-id-1 div.sk-estimator {font-family: monospace;background-color: #f0f8ff;border: 1px dotted black;border-radius: 0.25em;box-sizing: border-box;margin-bottom: 0.5em;}#sk-container-id-1 div.sk-estimator:hover {background-color: #d4ebff;}#sk-container-id-1 div.sk-parallel-item::after {content: \"\";width: 100%;border-bottom: 1px solid gray;flex-grow: 1;}#sk-container-id-1 div.sk-label:hover label.sk-toggleable__label {background-color: #d4ebff;}#sk-container-id-1 div.sk-serial::before {content: \"\";position: absolute;border-left: 1px solid gray;box-sizing: border-box;top: 0;bottom: 0;left: 50%;z-index: 0;}#sk-container-id-1 div.sk-serial {display: flex;flex-direction: column;align-items: center;background-color: white;padding-right: 0.2em;padding-left: 0.2em;position: relative;}#sk-container-id-1 div.sk-item {position: relative;z-index: 1;}#sk-container-id-1 div.sk-parallel {display: flex;align-items: stretch;justify-content: center;background-color: white;position: relative;}#sk-container-id-1 div.sk-item::before, #sk-container-id-1 div.sk-parallel-item::before {content: \"\";position: absolute;border-left: 1px solid gray;box-sizing: border-box;top: 0;bottom: 0;left: 50%;z-index: -1;}#sk-container-id-1 div.sk-parallel-item {display: flex;flex-direction: column;z-index: 1;position: relative;background-color: white;}#sk-container-id-1 div.sk-parallel-item:first-child::after {align-self: flex-end;width: 50%;}#sk-container-id-1 div.sk-parallel-item:last-child::after {align-self: flex-start;width: 50%;}#sk-container-id-1 div.sk-parallel-item:only-child::after {width: 0;}#sk-container-id-1 div.sk-dashed-wrapped {border: 1px dashed gray;margin: 0 0.4em 0.5em 0.4em;box-sizing: border-box;padding-bottom: 0.4em;background-color: white;}#sk-container-id-1 div.sk-label label {font-family: monospace;font-weight: bold;display: inline-block;line-height: 1.2em;}#sk-container-id-1 div.sk-label-container {text-align: center;}#sk-container-id-1 div.sk-container {/* jupyter's `normalize.less` sets `[hidden] { display: none; }` but bootstrap.min.css set `[hidden] { display: none !important; }` so we also need the `!important` here to be able to override the default hidden behavior on the sphinx rendered scikit-learn.org. See: https://github.com/scikit-learn/scikit-learn/issues/21755 */display: inline-block !important;position: relative;}#sk-container-id-1 div.sk-text-repr-fallback {display: none;}</style><div id=\"sk-container-id-1\" class=\"sk-top-container\"><div class=\"sk-text-repr-fallback\"><pre>LGBMClassifier(bagging_fraction=0.3, bagging_freq=1, boosting_type=&#x27;rf&#x27;)</pre><b>In a Jupyter environment, please rerun this cell to show the HTML representation or trust the notebook. <br />On GitHub, the HTML representation is unable to render, please try loading this page with nbviewer.org.</b></div><div class=\"sk-container\" hidden><div class=\"sk-item\"><div class=\"sk-estimator sk-toggleable\"><input class=\"sk-toggleable__control sk-hidden--visually\" id=\"sk-estimator-id-1\" type=\"checkbox\" checked><label for=\"sk-estimator-id-1\" class=\"sk-toggleable__label sk-toggleable__label-arrow\">LGBMClassifier</label><div class=\"sk-toggleable__content\"><pre>LGBMClassifier(bagging_fraction=0.3, bagging_freq=1, boosting_type=&#x27;rf&#x27;)</pre></div></div></div></div></div>"
     },
     "execution_count": 33,
     "metadata": {},
     "output_type": "execute_result"
    }
   ],
   "source": [
    "#instancio el modelo\n",
    "model = LGBMClassifier(boosting_type='rf', bagging_freq=1, bagging_fraction=.3)\n",
    "#el modelo aprende (Fitea la data)\n",
    "model.fit(X, Y)"
   ],
   "metadata": {
    "collapsed": false,
    "pycharm": {
     "name": "#%%\n"
    }
   }
  },
  {
   "cell_type": "code",
   "execution_count": 34,
   "outputs": [],
   "source": [
    "df['prob_conv'] = model.predict_proba(X)[:,1]"
   ],
   "metadata": {
    "collapsed": false,
    "pycharm": {
     "name": "#%%\n"
    }
   }
  },
  {
   "cell_type": "code",
   "execution_count": 35,
   "outputs": [
    {
     "data": {
      "text/plain": "          user_id     session_id      session_start_time  \\\n0         4544406  1640995204016 2022-01-01 00:00:05.168   \n1         5331938  1640994855839 2022-01-01 00:00:06.994   \n2         8562331  1640993452322 2022-01-01 00:00:26.395   \n3         8511387  1640995227918 2022-01-01 00:00:27.983   \n4         3871376  1640995240826 2022-01-01 00:00:40.844   \n...           ...            ...                     ...   \n1522453  10398583  1660521507108 2022-08-14 23:58:27.185   \n1522454  10231979  1660519642325 2022-08-14 23:58:27.187   \n1522458   8599790  1660521470439 2022-08-14 23:59:07.685   \n1522460   3546653  1660521561271 2022-08-14 23:59:21.312   \n1522461  10103195  1660521579555 2022-08-14 23:59:39.622   \n\n               session_end_time  \\\n0       2022-01-01 00:00:06.535   \n1       2022-01-01 00:13:08.025   \n2       2022-01-01 00:00:26.395   \n3       2022-01-01 00:00:27.983   \n4       2022-01-01 00:00:40.844   \n...                         ...   \n1522453 2022-08-14 23:58:27.185   \n1522454 2022-08-14 23:58:27.233   \n1522458 2022-08-14 23:59:10.306   \n1522460 2022-08-14 23:59:21.312   \n1522461 2022-08-14 23:59:39.801   \n\n                                              utm_campaign utm_source  \\\n0        mx-pue-sales-oportunities-daba-facebook-ao_add...   facebook   \n1        mx-gdl-sales-oportunities-daba-facebook-ao_add...   facebook   \n2        mx-cdmx-sales-oportunities-targetylal-facebook...   facebook   \n3        mx-gdl-sales-oportunities-rmkt-facebook-ao_add...   facebook   \n4        mx-cdmx-sales-oportunities-rmkt-facebook-ao_ad...   facebook   \n...                                                    ...        ...   \n1522453  mx-mex-sales-leadgen-remarketing-all-es-low-at...   facebook   \n1522454  mx-mex-purchase-leadgen-target-all-es-top-comr...   facebook   \n1522458  mx-cdmx-sales-oportunities-broad-foryou-aospar...     tiktok   \n1522460  mx-mex-sales-leadgen-daba-all-es-mid-lead_smar...   facebook   \n1522461  mx-pbc-sales-leadgen-remarketing-all-es-low-at...   facebook   \n\n         total_sessions  session_duration  timeaccum date_reserve  ...  \\\n0                     1                 1          1   2023-01-01  ...   \n1                     1               781        781   2023-01-01  ...   \n2                     1                 0          0   2023-01-01  ...   \n3                     1                 0          0   2023-01-01  ...   \n4                     1                 0          0   2023-01-01  ...   \n...                 ...               ...        ...          ...  ...   \n1522453               3                 0        476   2023-01-01  ...   \n1522454               2                 0          0   2023-01-01  ...   \n1522458               3                 2       1156   2023-01-01  ...   \n1522460               7                 0     471021   2023-01-01  ...   \n1522461               2                 0         80   2023-01-01  ...   \n\n         remarketing  purchases  whatsapp  facebook  google  tiktok  insta  \\\n0              False      False     False      True   False   False  False   \n1              False      False     False      True   False   False  False   \n2              False      False     False      True   False   False  False   \n3               True      False     False      True   False   False  False   \n4               True      False     False      True   False   False  False   \n...              ...        ...       ...       ...     ...     ...    ...   \n1522453        False      False     False      True   False   False  False   \n1522454        False       True     False      True   False   False  False   \n1522458        False      False     False     False   False    True  False   \n1522460        False      False     False      True   False   False  False   \n1522461        False      False     False      True   False   False  False   \n\n         sales  hour  prob_conv  \n0         True     0   0.012359  \n1         True     0   0.015291  \n2         True     0   0.012359  \n3         True     0   0.012359  \n4         True     0   0.012359  \n...        ...   ...        ...  \n1522453   True    23   0.012705  \n1522454  False    23   0.009962  \n1522458   True    23   0.022029  \n1522460   True    23   0.154216  \n1522461   True    23   0.012359  \n\n[1257918 rows x 24 columns]",
      "text/html": "<div>\n<style scoped>\n    .dataframe tbody tr th:only-of-type {\n        vertical-align: middle;\n    }\n\n    .dataframe tbody tr th {\n        vertical-align: top;\n    }\n\n    .dataframe thead th {\n        text-align: right;\n    }\n</style>\n<table border=\"1\" class=\"dataframe\">\n  <thead>\n    <tr style=\"text-align: right;\">\n      <th></th>\n      <th>user_id</th>\n      <th>session_id</th>\n      <th>session_start_time</th>\n      <th>session_end_time</th>\n      <th>utm_campaign</th>\n      <th>utm_source</th>\n      <th>total_sessions</th>\n      <th>session_duration</th>\n      <th>timeaccum</th>\n      <th>date_reserve</th>\n      <th>...</th>\n      <th>remarketing</th>\n      <th>purchases</th>\n      <th>whatsapp</th>\n      <th>facebook</th>\n      <th>google</th>\n      <th>tiktok</th>\n      <th>insta</th>\n      <th>sales</th>\n      <th>hour</th>\n      <th>prob_conv</th>\n    </tr>\n  </thead>\n  <tbody>\n    <tr>\n      <th>0</th>\n      <td>4544406</td>\n      <td>1640995204016</td>\n      <td>2022-01-01 00:00:05.168</td>\n      <td>2022-01-01 00:00:06.535</td>\n      <td>mx-pue-sales-oportunities-daba-facebook-ao_add...</td>\n      <td>facebook</td>\n      <td>1</td>\n      <td>1</td>\n      <td>1</td>\n      <td>2023-01-01</td>\n      <td>...</td>\n      <td>False</td>\n      <td>False</td>\n      <td>False</td>\n      <td>True</td>\n      <td>False</td>\n      <td>False</td>\n      <td>False</td>\n      <td>True</td>\n      <td>0</td>\n      <td>0.012359</td>\n    </tr>\n    <tr>\n      <th>1</th>\n      <td>5331938</td>\n      <td>1640994855839</td>\n      <td>2022-01-01 00:00:06.994</td>\n      <td>2022-01-01 00:13:08.025</td>\n      <td>mx-gdl-sales-oportunities-daba-facebook-ao_add...</td>\n      <td>facebook</td>\n      <td>1</td>\n      <td>781</td>\n      <td>781</td>\n      <td>2023-01-01</td>\n      <td>...</td>\n      <td>False</td>\n      <td>False</td>\n      <td>False</td>\n      <td>True</td>\n      <td>False</td>\n      <td>False</td>\n      <td>False</td>\n      <td>True</td>\n      <td>0</td>\n      <td>0.015291</td>\n    </tr>\n    <tr>\n      <th>2</th>\n      <td>8562331</td>\n      <td>1640993452322</td>\n      <td>2022-01-01 00:00:26.395</td>\n      <td>2022-01-01 00:00:26.395</td>\n      <td>mx-cdmx-sales-oportunities-targetylal-facebook...</td>\n      <td>facebook</td>\n      <td>1</td>\n      <td>0</td>\n      <td>0</td>\n      <td>2023-01-01</td>\n      <td>...</td>\n      <td>False</td>\n      <td>False</td>\n      <td>False</td>\n      <td>True</td>\n      <td>False</td>\n      <td>False</td>\n      <td>False</td>\n      <td>True</td>\n      <td>0</td>\n      <td>0.012359</td>\n    </tr>\n    <tr>\n      <th>3</th>\n      <td>8511387</td>\n      <td>1640995227918</td>\n      <td>2022-01-01 00:00:27.983</td>\n      <td>2022-01-01 00:00:27.983</td>\n      <td>mx-gdl-sales-oportunities-rmkt-facebook-ao_add...</td>\n      <td>facebook</td>\n      <td>1</td>\n      <td>0</td>\n      <td>0</td>\n      <td>2023-01-01</td>\n      <td>...</td>\n      <td>True</td>\n      <td>False</td>\n      <td>False</td>\n      <td>True</td>\n      <td>False</td>\n      <td>False</td>\n      <td>False</td>\n      <td>True</td>\n      <td>0</td>\n      <td>0.012359</td>\n    </tr>\n    <tr>\n      <th>4</th>\n      <td>3871376</td>\n      <td>1640995240826</td>\n      <td>2022-01-01 00:00:40.844</td>\n      <td>2022-01-01 00:00:40.844</td>\n      <td>mx-cdmx-sales-oportunities-rmkt-facebook-ao_ad...</td>\n      <td>facebook</td>\n      <td>1</td>\n      <td>0</td>\n      <td>0</td>\n      <td>2023-01-01</td>\n      <td>...</td>\n      <td>True</td>\n      <td>False</td>\n      <td>False</td>\n      <td>True</td>\n      <td>False</td>\n      <td>False</td>\n      <td>False</td>\n      <td>True</td>\n      <td>0</td>\n      <td>0.012359</td>\n    </tr>\n    <tr>\n      <th>...</th>\n      <td>...</td>\n      <td>...</td>\n      <td>...</td>\n      <td>...</td>\n      <td>...</td>\n      <td>...</td>\n      <td>...</td>\n      <td>...</td>\n      <td>...</td>\n      <td>...</td>\n      <td>...</td>\n      <td>...</td>\n      <td>...</td>\n      <td>...</td>\n      <td>...</td>\n      <td>...</td>\n      <td>...</td>\n      <td>...</td>\n      <td>...</td>\n      <td>...</td>\n      <td>...</td>\n    </tr>\n    <tr>\n      <th>1522453</th>\n      <td>10398583</td>\n      <td>1660521507108</td>\n      <td>2022-08-14 23:58:27.185</td>\n      <td>2022-08-14 23:58:27.185</td>\n      <td>mx-mex-sales-leadgen-remarketing-all-es-low-at...</td>\n      <td>facebook</td>\n      <td>3</td>\n      <td>0</td>\n      <td>476</td>\n      <td>2023-01-01</td>\n      <td>...</td>\n      <td>False</td>\n      <td>False</td>\n      <td>False</td>\n      <td>True</td>\n      <td>False</td>\n      <td>False</td>\n      <td>False</td>\n      <td>True</td>\n      <td>23</td>\n      <td>0.012705</td>\n    </tr>\n    <tr>\n      <th>1522454</th>\n      <td>10231979</td>\n      <td>1660519642325</td>\n      <td>2022-08-14 23:58:27.187</td>\n      <td>2022-08-14 23:58:27.233</td>\n      <td>mx-mex-purchase-leadgen-target-all-es-top-comr...</td>\n      <td>facebook</td>\n      <td>2</td>\n      <td>0</td>\n      <td>0</td>\n      <td>2023-01-01</td>\n      <td>...</td>\n      <td>False</td>\n      <td>True</td>\n      <td>False</td>\n      <td>True</td>\n      <td>False</td>\n      <td>False</td>\n      <td>False</td>\n      <td>False</td>\n      <td>23</td>\n      <td>0.009962</td>\n    </tr>\n    <tr>\n      <th>1522458</th>\n      <td>8599790</td>\n      <td>1660521470439</td>\n      <td>2022-08-14 23:59:07.685</td>\n      <td>2022-08-14 23:59:10.306</td>\n      <td>mx-cdmx-sales-oportunities-broad-foryou-aospar...</td>\n      <td>tiktok</td>\n      <td>3</td>\n      <td>2</td>\n      <td>1156</td>\n      <td>2023-01-01</td>\n      <td>...</td>\n      <td>False</td>\n      <td>False</td>\n      <td>False</td>\n      <td>False</td>\n      <td>False</td>\n      <td>True</td>\n      <td>False</td>\n      <td>True</td>\n      <td>23</td>\n      <td>0.022029</td>\n    </tr>\n    <tr>\n      <th>1522460</th>\n      <td>3546653</td>\n      <td>1660521561271</td>\n      <td>2022-08-14 23:59:21.312</td>\n      <td>2022-08-14 23:59:21.312</td>\n      <td>mx-mex-sales-leadgen-daba-all-es-mid-lead_smar...</td>\n      <td>facebook</td>\n      <td>7</td>\n      <td>0</td>\n      <td>471021</td>\n      <td>2023-01-01</td>\n      <td>...</td>\n      <td>False</td>\n      <td>False</td>\n      <td>False</td>\n      <td>True</td>\n      <td>False</td>\n      <td>False</td>\n      <td>False</td>\n      <td>True</td>\n      <td>23</td>\n      <td>0.154216</td>\n    </tr>\n    <tr>\n      <th>1522461</th>\n      <td>10103195</td>\n      <td>1660521579555</td>\n      <td>2022-08-14 23:59:39.622</td>\n      <td>2022-08-14 23:59:39.801</td>\n      <td>mx-pbc-sales-leadgen-remarketing-all-es-low-at...</td>\n      <td>facebook</td>\n      <td>2</td>\n      <td>0</td>\n      <td>80</td>\n      <td>2023-01-01</td>\n      <td>...</td>\n      <td>False</td>\n      <td>False</td>\n      <td>False</td>\n      <td>True</td>\n      <td>False</td>\n      <td>False</td>\n      <td>False</td>\n      <td>True</td>\n      <td>23</td>\n      <td>0.012359</td>\n    </tr>\n  </tbody>\n</table>\n<p>1257918 rows × 24 columns</p>\n</div>"
     },
     "execution_count": 35,
     "metadata": {},
     "output_type": "execute_result"
    }
   ],
   "source": [
    "df"
   ],
   "metadata": {
    "collapsed": false,
    "pycharm": {
     "name": "#%%\n"
    }
   }
  },
  {
   "cell_type": "code",
   "execution_count": 37,
   "outputs": [
    {
     "ename": "ImportError",
     "evalue": "attempted relative import with no known parent package",
     "output_type": "error",
     "traceback": [
      "\u001B[0;31m---------------------------------------------------------------------------\u001B[0m",
      "\u001B[0;31mImportError\u001B[0m                               Traceback (most recent call last)",
      "Cell \u001B[0;32mIn [37], line 1\u001B[0m\n\u001B[0;32m----> 1\u001B[0m \u001B[38;5;28;01mfrom\u001B[39;00m \u001B[38;5;21;01m.\u001B[39;00m\u001B[38;5;21;01m.\u001B[39;00m\u001B[38;5;21;01mmarketing\u001B[39;00m\u001B[38;5;21;01m.\u001B[39;00m\u001B[38;5;21;01mextract_data\u001B[39;00m \u001B[38;5;28;01mimport\u001B[39;00m read_local\n",
      "\u001B[0;31mImportError\u001B[0m: attempted relative import with no known parent package"
     ]
    }
   ],
   "source": [],
   "metadata": {
    "collapsed": false,
    "pycharm": {
     "name": "#%%\n"
    }
   }
  },
  {
   "cell_type": "code",
   "execution_count": null,
   "outputs": [],
   "source": [],
   "metadata": {
    "collapsed": false,
    "pycharm": {
     "name": "#%%\n"
    }
   }
  }
 ],
 "metadata": {
  "kernelspec": {
   "display_name": "Python 3",
   "language": "python",
   "name": "python3"
  },
  "language_info": {
   "codemirror_mode": {
    "name": "ipython",
    "version": 2
   },
   "file_extension": ".py",
   "mimetype": "text/x-python",
   "name": "python",
   "nbconvert_exporter": "python",
   "pygments_lexer": "ipython2",
   "version": "2.7.6"
  }
 },
 "nbformat": 4,
 "nbformat_minor": 0
}